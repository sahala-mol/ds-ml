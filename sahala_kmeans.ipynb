{
  "nbformat": 4,
  "nbformat_minor": 0,
  "metadata": {
    "colab": {
      "provenance": [],
      "authorship_tag": "ABX9TyPJYEjxvUNf16yk5S23Fx/P",
      "include_colab_link": true
    },
    "kernelspec": {
      "name": "python3",
      "display_name": "Python 3"
    },
    "language_info": {
      "name": "python"
    }
  },
  "cells": [
    {
      "cell_type": "markdown",
      "metadata": {
        "id": "view-in-github",
        "colab_type": "text"
      },
      "source": [
        "<a href=\"https://colab.research.google.com/github/sahala-mol/ds-ml/blob/main/sahala_kmeans.ipynb\" target=\"_parent\"><img src=\"https://colab.research.google.com/assets/colab-badge.svg\" alt=\"Open In Colab\"/></a>"
      ]
    },
    {
      "cell_type": "code",
      "execution_count": 41,
      "metadata": {
        "colab": {
          "base_uri": "https://localhost:8080/"
        },
        "id": "lOdDVpdHnCKw",
        "outputId": "d0e1e615-28a4-4fd1-aaa9-8de30066e3b7"
      },
      "outputs": [
        {
          "output_type": "stream",
          "name": "stdout",
          "text": [
            "          Car       Model  Volume  Weight  CO2\n",
            "0  Mitsubishi  Space Star    1200    1160   95\n",
            "1       Skoda      Citigo    1000     929   95\n",
            "2        Fiat         500     900     865   90\n",
            "3        Mini      Cooper    1500    1140  105\n",
            "4          VW         Up!    1000     929  105\n"
          ]
        }
      ],
      "source": [
        "#Program to implement k-means clustering technique using any standard dataset available in the public domain\n",
        "#Import the modules and Read the data\n",
        "import numpy as np\n",
        "import pandas as pd\n",
        "from sklearn.cluster import KMeans\n",
        "df=pd.read_csv('https://raw.githubusercontent.com/sahala-mol/ds-ml/refs/heads/main/car.csv')\n",
        "print(df.head())\n",
        "\n",
        "\n",
        "\n",
        "\n"
      ]
    },
    {
      "cell_type": "code",
      "source": [
        "#Get the total number of rows and columns, data types of columns and missing values (if exist) in the dataset.\n",
        "print(df.shape)"
      ],
      "metadata": {
        "colab": {
          "base_uri": "https://localhost:8080/"
        },
        "id": "rnsAirFJn6wZ",
        "outputId": "31f4a64d-e81f-48d5-eb5a-bdd2b87c2d07"
      },
      "execution_count": 42,
      "outputs": [
        {
          "output_type": "stream",
          "name": "stdout",
          "text": [
            "(32, 5)\n"
          ]
        }
      ]
    },
    {
      "cell_type": "code",
      "source": [
        "print(df.dtypes)"
      ],
      "metadata": {
        "colab": {
          "base_uri": "https://localhost:8080/"
        },
        "id": "vq0O3tdjXeaZ",
        "outputId": "0408792d-6eb4-4a30-d7b8-f3227cc64345"
      },
      "execution_count": 43,
      "outputs": [
        {
          "output_type": "stream",
          "name": "stdout",
          "text": [
            "Car       object\n",
            "Model     object\n",
            "Volume     int64\n",
            "Weight     int64\n",
            "CO2        int64\n",
            "dtype: object\n"
          ]
        }
      ]
    },
    {
      "cell_type": "code",
      "source": [
        "print(df.isnull().sum())"
      ],
      "metadata": {
        "colab": {
          "base_uri": "https://localhost:8080/"
        },
        "id": "97Ss1njLXg1I",
        "outputId": "80a9a6ff-ddef-46ba-ac3d-fbfc8aa199d9"
      },
      "execution_count": 44,
      "outputs": [
        {
          "output_type": "stream",
          "name": "stdout",
          "text": [
            "Car       0\n",
            "Model     0\n",
            "Volume    0\n",
            "Weight    0\n",
            "CO2       0\n",
            "dtype: int64\n"
          ]
        }
      ]
    },
    {
      "cell_type": "code",
      "source": [
        "new_df=df[['Volume','Weight','CO2']]\n",
        "print(new_df.head())"
      ],
      "metadata": {
        "colab": {
          "base_uri": "https://localhost:8080/"
        },
        "id": "R3PwJOoMXh54",
        "outputId": "54aa4bc3-58c3-493b-9bc2-810f15e37e90"
      },
      "execution_count": 45,
      "outputs": [
        {
          "output_type": "stream",
          "name": "stdout",
          "text": [
            "   Volume  Weight  CO2\n",
            "0    1200    1160   95\n",
            "1    1000     929   95\n",
            "2     900     865   90\n",
            "3    1500    1140  105\n",
            "4    1000     929  105\n"
          ]
        }
      ]
    },
    {
      "cell_type": "code",
      "source": [
        "import pandas as pd\n",
        "from sklearn.metrics import silhouette_score\n",
        "\n",
        "sil_scores = []\n",
        "for k in range(2, 11):\n",
        "  kmeans = KMeans(n_clusters=k, random_state=100)\n",
        "  kmeans.fit(new_df)\n",
        "  labels = kmeans.predict(new_df)\n",
        "  silhouette_avg = silhouette_score(new_df, labels)\n",
        "  sil_scores.append(silhouette_avg)\n",
        "\n",
        "df_sil_scores = pd.DataFrame({'K': range(2, 11), 'Silhouette Score': sil_scores})\n",
        "print(df_sil_scores)\n"
      ],
      "metadata": {
        "id": "6Xgwcl_moIy7",
        "outputId": "7eb783ca-dacf-41f0-eafb-03f3649a29bc",
        "colab": {
          "base_uri": "https://localhost:8080/"
        }
      },
      "execution_count": 46,
      "outputs": [
        {
          "output_type": "stream",
          "name": "stdout",
          "text": [
            "    K  Silhouette Score\n",
            "0   2          0.511088\n",
            "1   3          0.569304\n",
            "2   4          0.496892\n",
            "3   5          0.478325\n",
            "4   6          0.464557\n",
            "5   7          0.525962\n",
            "6   8          0.469754\n",
            "7   9          0.444389\n",
            "8  10          0.408325\n"
          ]
        }
      ]
    },
    {
      "cell_type": "code",
      "source": [
        "import matplotlib.pyplot as plt\n",
        "\n",
        "plt.plot(df_sil_scores['K'], df_sil_scores['Silhouette Score'])\n",
        "plt.xlabel('Number of Clusters (K)')\n",
        "plt.ylabel('Silhouette Score')\n",
        "plt.title('Silhouette Score vs. Number of Clusters')\n",
        "plt.grid(True)\n",
        "plt.show()"
      ],
      "metadata": {
        "colab": {
          "base_uri": "https://localhost:8080/",
          "height": 472
        },
        "id": "TSUbxP74XpW3",
        "outputId": "60bd6706-ca93-4fe6-8279-812efda6c840"
      },
      "execution_count": 47,
      "outputs": [
        {
          "output_type": "display_data",
          "data": {
            "text/plain": [
              "<Figure size 640x480 with 1 Axes>"
            ],
            "image/png": "[encoded data removed]"
          },
          "metadata": {}
        }
      ]
    },
    {
      "cell_type": "code",
      "source": [
        "# prompt: Clustering the dataset for K = 3 give only the specified code\n",
        "\n",
        "kmeans = KMeans(n_clusters=3, random_state=42)\n",
        "kmeans.fit(new_df)\n",
        "labels = kmeans.predict(new_df)\n",
        "new_df['Cluster'] = labels\n",
        "print(new_df.head())\n",
        "\n"
      ],
      "metadata": {
        "colab": {
          "base_uri": "https://localhost:8080/"
        },
        "id": "fEFa3vNUkDHe",
        "outputId": "0e635cda-13d3-488a-9a39-8714b0571140"
      },
      "execution_count": 48,
      "outputs": [
        {
          "output_type": "stream",
          "name": "stdout",
          "text": [
            "   Volume  Weight  CO2  Cluster\n",
            "0    1200    1160   95        2\n",
            "1    1000     929   95        2\n",
            "2     900     865   90        2\n",
            "3    1500    1140  105        0\n",
            "4    1000     929  105        2\n"
          ]
        },
        {
          "output_type": "stream",
          "name": "stderr",
          "text": [
            "<ipython-input-48-adae6eef940d>:6: SettingWithCopyWarning: \n",
            "A value is trying to be set on a copy of a slice from a DataFrame.\n",
            "Try using .loc[row_indexer,col_indexer] = value instead\n",
            "\n",
            "See the caveats in the documentation: https://pandas.pydata.org/pandas-docs/stable/user_guide/indexing.html#returning-a-view-versus-a-copy\n",
            "  new_df['Cluster'] = labels\n"
          ]
        }
      ]
    },
    {
      "cell_type": "code",
      "source": [
        "# prompt: Perform K-Means clustering with n_clusters = 3 and random_state = 10\n",
        "\n",
        "kmeans = KMeans(n_clusters=3, random_state=10)\n",
        "kmeans.fit(new_df[['Volume', 'Weight', 'CO2']])  # Fit the model on the relevant columns\n",
        "labels = kmeans.predict(new_df[['Volume', 'Weight', 'CO2']])\n",
        "new_df['Cluster'] = labels\n",
        "print(new_df.head())"
      ],
      "metadata": {
        "colab": {
          "base_uri": "https://localhost:8080/"
        },
        "id": "cwrQofJtZ3QQ",
        "outputId": "630da40f-dd18-4bf2-ef9a-93beefcb9827"
      },
      "execution_count": 49,
      "outputs": [
        {
          "output_type": "stream",
          "name": "stdout",
          "text": [
            "   Volume  Weight  CO2  Cluster\n",
            "0    1200    1160   95        1\n",
            "1    1000     929   95        1\n",
            "2     900     865   90        1\n",
            "3    1500    1140  105        2\n",
            "4    1000     929  105        1\n"
          ]
        },
        {
          "output_type": "stream",
          "name": "stderr",
          "text": [
            "<ipython-input-49-d74afcfc61eb>:6: SettingWithCopyWarning: \n",
            "A value is trying to be set on a copy of a slice from a DataFrame.\n",
            "Try using .loc[row_indexer,col_indexer] = value instead\n",
            "\n",
            "See the caveats in the documentation: https://pandas.pydata.org/pandas-docs/stable/user_guide/indexing.html#returning-a-view-versus-a-copy\n",
            "  new_df['Cluster'] = labels\n"
          ]
        }
      ]
    },
    {
      "cell_type": "code",
      "source": [
        "# prompt: Fit the model to the scaled_df,Make a series using predictions by K-Means,Create a DataFrame with cluster labels for cluster visualisation\n",
        "\n",
        "import pandas as pd\n",
        "from sklearn.preprocessing import StandardScaler\n",
        "\n",
        "# Scale the data\n",
        "scaler = StandardScaler()\n",
        "scaled_df = scaler.fit_transform(new_df[['Volume', 'Weight', 'CO2']])\n",
        "\n",
        "# Fit the model to the scaled data\n",
        "kmeans = KMeans(n_clusters=3, random_state=10)\n",
        "kmeans.fit(scaled_df)\n",
        "\n",
        "# Make a series using predictions by K-Means\n",
        "cluster_labels = pd.Series(kmeans.labels_, name='cluster')\n",
        "\n",
        "# Create a DataFrame with cluster labels for cluster visualisation\n",
        "cluster_df = pd.DataFrame(scaled_df, columns=['Volume', 'Weight', 'CO2'])\n",
        "cluster_df = pd.concat([cluster_df, cluster_labels], axis=1)\n",
        "\n",
        "print(cluster_df.head())"
      ],
      "metadata": {
        "colab": {
          "base_uri": "https://localhost:8080/"
        },
        "id": "2P_8jCW1Z5lQ",
        "outputId": "ec99480b-97f2-4274-e656-81e77d3d94cf"
      },
      "execution_count": 50,
      "outputs": [
        {
          "output_type": "stream",
          "name": "stdout",
          "text": [
            "     Volume    Weight       CO2  cluster\n",
            "0 -1.081083 -0.575067 -0.989995        2\n",
            "1 -1.613309 -1.583822 -0.989995        2\n",
            "2 -1.879422 -1.863304 -1.684729        2\n",
            "3 -0.282745 -0.662405  0.399472        1\n",
            "4 -1.613309 -1.583822  0.399472        2\n"
          ]
        }
      ]
    }
  ]
}